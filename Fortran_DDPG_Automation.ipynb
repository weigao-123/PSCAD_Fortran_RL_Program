{
 "cells": [
  {
   "cell_type": "code",
   "execution_count": 4,
   "metadata": {
    "scrolled": true
   },
   "outputs": [
    {
     "name": "stdout",
     "output_type": "stream",
     "text": [
      "Automation Library: 1.2.4\n"
     ]
    },
    {
     "ename": "KeyboardInterrupt",
     "evalue": "",
     "output_type": "error",
     "traceback": [
      "\u001b[1;31m---------------------------------------------------------------------------\u001b[0m",
      "\u001b[1;31mtimeout\u001b[0m                                   Traceback (most recent call last)",
      "\u001b[1;32mC:\\ProgramData\\Anaconda3\\lib\\site-packages\\mhrc\\automation\\xml_sock.py\u001b[0m in \u001b[0;36m_read_xml\u001b[1;34m(self, sock, bufsize, encoding)\u001b[0m\n\u001b[0;32m    193\u001b[0m                 \u001b[1;31m# Check if we've received some data\u001b[0m\u001b[1;33m\u001b[0m\u001b[1;33m\u001b[0m\u001b[1;33m\u001b[0m\u001b[0m\n\u001b[1;32m--> 194\u001b[1;33m                 \u001b[0mdata\u001b[0m \u001b[1;33m=\u001b[0m \u001b[0msock\u001b[0m\u001b[1;33m.\u001b[0m\u001b[0mrecv\u001b[0m\u001b[1;33m(\u001b[0m\u001b[0mbufsize\u001b[0m\u001b[1;33m)\u001b[0m\u001b[1;33m\u001b[0m\u001b[1;33m\u001b[0m\u001b[0m\n\u001b[0m\u001b[0;32m    195\u001b[0m \u001b[1;33m\u001b[0m\u001b[0m\n",
      "\u001b[1;31mtimeout\u001b[0m: timed out",
      "\nDuring handling of the above exception, another exception occurred:\n",
      "\u001b[1;31mKeyboardInterrupt\u001b[0m                         Traceback (most recent call last)",
      "\u001b[1;32m<ipython-input-4-7387f3db00c2>\u001b[0m in \u001b[0;36m<module>\u001b[1;34m\u001b[0m\n\u001b[0;32m     61\u001b[0m \u001b[1;33m\u001b[0m\u001b[0m\n\u001b[0;32m     62\u001b[0m                 \u001b[1;31m# Run simulation for one step 5e-5 sec\u001b[0m\u001b[1;33m\u001b[0m\u001b[1;33m\u001b[0m\u001b[1;33m\u001b[0m\u001b[0m\n\u001b[1;32m---> 63\u001b[1;33m                 \u001b[0mproject\u001b[0m\u001b[1;33m.\u001b[0m\u001b[0mrun\u001b[0m\u001b[1;33m(\u001b[0m\u001b[1;33m)\u001b[0m\u001b[1;33m\u001b[0m\u001b[1;33m\u001b[0m\u001b[0m\n\u001b[0m\u001b[0;32m     64\u001b[0m \u001b[1;33m\u001b[0m\u001b[0m\n\u001b[0;32m     65\u001b[0m                 \u001b[1;31m# Read Sin_Out data from '.out' file\u001b[0m\u001b[1;33m\u001b[0m\u001b[1;33m\u001b[0m\u001b[1;33m\u001b[0m\u001b[0m\n",
      "\u001b[1;32mC:\\ProgramData\\Anaconda3\\lib\\site-packages\\mhrc\\automation\\project.py\u001b[0m in \u001b[0;36mrun\u001b[1;34m(self, consumer)\u001b[0m\n\u001b[0;32m    236\u001b[0m \u001b[1;33m\u001b[0m\u001b[0m\n\u001b[0;32m    237\u001b[0m         \u001b[0mcmd\u001b[0m \u001b[1;33m=\u001b[0m \u001b[0mself\u001b[0m\u001b[1;33m.\u001b[0m\u001b[0mcommand\u001b[0m\u001b[1;33m(\u001b[0m\u001b[1;34m'run'\u001b[0m\u001b[1;33m)\u001b[0m\u001b[1;33m\u001b[0m\u001b[1;33m\u001b[0m\u001b[0m\n\u001b[1;32m--> 238\u001b[1;33m         \u001b[1;32mreturn\u001b[0m \u001b[0mself\u001b[0m\u001b[1;33m.\u001b[0m\u001b[0m_pscad\u001b[0m\u001b[1;33m.\u001b[0m\u001b[0mexecute_build_run_cmd\u001b[0m\u001b[1;33m(\u001b[0m\u001b[0mcmd\u001b[0m\u001b[1;33m,\u001b[0m \u001b[0mconsumer\u001b[0m\u001b[1;33m)\u001b[0m\u001b[1;33m\u001b[0m\u001b[1;33m\u001b[0m\u001b[0m\n\u001b[0m\u001b[0;32m    239\u001b[0m \u001b[1;33m\u001b[0m\u001b[0m\n\u001b[0;32m    240\u001b[0m     \u001b[1;31m#---------------------------------------------------------------------------\u001b[0m\u001b[1;33m\u001b[0m\u001b[1;33m\u001b[0m\u001b[1;33m\u001b[0m\u001b[0m\n",
      "\u001b[1;32mC:\\ProgramData\\Anaconda3\\lib\\site-packages\\mhrc\\automation\\pscad.py\u001b[0m in \u001b[0;36mexecute_build_run_cmd\u001b[1;34m(self, cmd, handler)\u001b[0m\n\u001b[0;32m    684\u001b[0m             \u001b[0mself\u001b[0m\u001b[1;33m.\u001b[0m\u001b[0msubscribe\u001b[0m\u001b[1;33m(\u001b[0m\u001b[1;34m'build-events'\u001b[0m\u001b[1;33m)\u001b[0m\u001b[1;33m\u001b[0m\u001b[1;33m\u001b[0m\u001b[0m\n\u001b[0;32m    685\u001b[0m \u001b[1;33m\u001b[0m\u001b[0m\n\u001b[1;32m--> 686\u001b[1;33m         \u001b[0mcmd\u001b[0m\u001b[1;33m.\u001b[0m\u001b[0msubmit\u001b[0m\u001b[1;33m(\u001b[0m\u001b[0mhandler\u001b[0m\u001b[1;33m)\u001b[0m\u001b[1;33m\u001b[0m\u001b[1;33m\u001b[0m\u001b[0m\n\u001b[0m\u001b[0;32m    687\u001b[0m \u001b[1;33m\u001b[0m\u001b[0m\n\u001b[0;32m    688\u001b[0m         \u001b[1;32mif\u001b[0m \u001b[0mauto_subscribe\u001b[0m\u001b[1;33m:\u001b[0m\u001b[1;33m\u001b[0m\u001b[1;33m\u001b[0m\u001b[0m\n",
      "\u001b[1;32mC:\\ProgramData\\Anaconda3\\lib\\site-packages\\mhrc\\automation\\command.py\u001b[0m in \u001b[0;36msubmit\u001b[1;34m(self, consumer)\u001b[0m\n\u001b[0;32m    369\u001b[0m             \u001b[0mLOG\u001b[0m\u001b[1;33m.\u001b[0m\u001b[0mdebug\u001b[0m\u001b[1;33m(\u001b[0m\u001b[1;34m\"submit: %s\"\u001b[0m\u001b[1;33m,\u001b[0m \u001b[0mstr\u001b[0m\u001b[1;33m(\u001b[0m\u001b[0mET\u001b[0m\u001b[1;33m.\u001b[0m\u001b[0mtostring\u001b[0m\u001b[1;33m(\u001b[0m\u001b[0mself\u001b[0m\u001b[1;33m.\u001b[0m\u001b[0mroot\u001b[0m\u001b[1;33m)\u001b[0m\u001b[1;33m,\u001b[0m \u001b[1;34m\"utf-8\"\u001b[0m\u001b[1;33m)\u001b[0m\u001b[1;33m)\u001b[0m\u001b[1;33m\u001b[0m\u001b[1;33m\u001b[0m\u001b[0m\n\u001b[0;32m    370\u001b[0m \u001b[1;33m\u001b[0m\u001b[0m\n\u001b[1;32m--> 371\u001b[1;33m         \u001b[1;32mreturn\u001b[0m \u001b[0mself\u001b[0m\u001b[1;33m.\u001b[0m\u001b[0mpscad\u001b[0m\u001b[1;33m.\u001b[0m\u001b[0msubmit\u001b[0m\u001b[1;33m(\u001b[0m\u001b[0mself\u001b[0m\u001b[1;33m.\u001b[0m\u001b[0mroot\u001b[0m\u001b[1;33m,\u001b[0m \u001b[0mconsumer\u001b[0m\u001b[1;33m)\u001b[0m\u001b[1;33m\u001b[0m\u001b[1;33m\u001b[0m\u001b[0m\n\u001b[0m\u001b[0;32m    372\u001b[0m \u001b[1;33m\u001b[0m\u001b[0m\n\u001b[0;32m    373\u001b[0m \u001b[1;33m\u001b[0m\u001b[0m\n",
      "\u001b[1;32mC:\\ProgramData\\Anaconda3\\lib\\site-packages\\mhrc\\automation\\command.py\u001b[0m in \u001b[0;36msubmit\u001b[1;34m(self, cmd, consumer)\u001b[0m\n\u001b[0;32m    226\u001b[0m     \u001b[1;32mdef\u001b[0m \u001b[0msubmit\u001b[0m\u001b[1;33m(\u001b[0m\u001b[0mself\u001b[0m\u001b[1;33m,\u001b[0m \u001b[0mcmd\u001b[0m\u001b[1;33m,\u001b[0m \u001b[0mconsumer\u001b[0m\u001b[1;33m)\u001b[0m\u001b[1;33m:\u001b[0m\u001b[1;33m\u001b[0m\u001b[1;33m\u001b[0m\u001b[0m\n\u001b[0;32m    227\u001b[0m         \u001b[0mself\u001b[0m\u001b[1;33m.\u001b[0m\u001b[0m_send\u001b[0m\u001b[1;33m(\u001b[0m\u001b[0mcmd\u001b[0m\u001b[1;33m)\u001b[0m\u001b[1;33m\u001b[0m\u001b[1;33m\u001b[0m\u001b[0m\n\u001b[1;32m--> 228\u001b[1;33m         \u001b[0mself\u001b[0m\u001b[1;33m.\u001b[0m\u001b[0m_wait_for_consumer\u001b[0m\u001b[1;33m(\u001b[0m\u001b[0mconsumer\u001b[0m\u001b[1;33m)\u001b[0m\u001b[1;33m\u001b[0m\u001b[1;33m\u001b[0m\u001b[0m\n\u001b[0m\u001b[0;32m    229\u001b[0m \u001b[1;33m\u001b[0m\u001b[0m\n\u001b[0;32m    230\u001b[0m \u001b[1;33m\u001b[0m\u001b[0m\n",
      "\u001b[1;32mC:\\ProgramData\\Anaconda3\\lib\\site-packages\\mhrc\\automation\\command.py\u001b[0m in \u001b[0;36m_wait_for_consumer\u001b[1;34m(self, consumer)\u001b[0m\n\u001b[0;32m    133\u001b[0m \u001b[1;33m\u001b[0m\u001b[0m\n\u001b[0;32m    134\u001b[0m         \u001b[1;32mwhile\u001b[0m \u001b[0mself\u001b[0m\u001b[1;33m.\u001b[0m\u001b[0m_sock\u001b[0m\u001b[1;33m.\u001b[0m\u001b[0mrx_open\u001b[0m\u001b[1;33m(\u001b[0m\u001b[1;33m)\u001b[0m\u001b[1;33m:\u001b[0m\u001b[1;33m\u001b[0m\u001b[1;33m\u001b[0m\u001b[0m\n\u001b[1;32m--> 135\u001b[1;33m             \u001b[0mmsg\u001b[0m \u001b[1;33m=\u001b[0m \u001b[0mself\u001b[0m\u001b[1;33m.\u001b[0m\u001b[0m_recv\u001b[0m\u001b[1;33m(\u001b[0m\u001b[1;33m)\u001b[0m\u001b[1;33m\u001b[0m\u001b[1;33m\u001b[0m\u001b[0m\n\u001b[0m\u001b[0;32m    136\u001b[0m             \u001b[1;32mtry\u001b[0m\u001b[1;33m:\u001b[0m\u001b[1;33m\u001b[0m\u001b[1;33m\u001b[0m\u001b[0m\n\u001b[0;32m    137\u001b[0m                 \u001b[0mhandled\u001b[0m \u001b[1;33m=\u001b[0m \u001b[0mconsumer\u001b[0m\u001b[1;33m.\u001b[0m\u001b[0msend\u001b[0m\u001b[1;33m(\u001b[0m\u001b[0mmsg\u001b[0m\u001b[1;33m)\u001b[0m\u001b[1;33m\u001b[0m\u001b[1;33m\u001b[0m\u001b[0m\n",
      "\u001b[1;32mC:\\ProgramData\\Anaconda3\\lib\\site-packages\\mhrc\\automation\\command.py\u001b[0m in \u001b[0;36m_recv\u001b[1;34m(self)\u001b[0m\n\u001b[0;32m    123\u001b[0m \u001b[1;33m\u001b[0m\u001b[0m\n\u001b[0;32m    124\u001b[0m     \u001b[1;32mdef\u001b[0m \u001b[0m_recv\u001b[0m\u001b[1;33m(\u001b[0m\u001b[0mself\u001b[0m\u001b[1;33m)\u001b[0m\u001b[1;33m:\u001b[0m\u001b[1;33m\u001b[0m\u001b[1;33m\u001b[0m\u001b[0m\n\u001b[1;32m--> 125\u001b[1;33m         \u001b[1;32mreturn\u001b[0m \u001b[0mself\u001b[0m\u001b[1;33m.\u001b[0m\u001b[0m_sock\u001b[0m\u001b[1;33m.\u001b[0m\u001b[0mrecv\u001b[0m\u001b[1;33m(\u001b[0m\u001b[1;33m)\u001b[0m\u001b[1;33m\u001b[0m\u001b[1;33m\u001b[0m\u001b[0m\n\u001b[0m\u001b[0;32m    126\u001b[0m \u001b[1;33m\u001b[0m\u001b[0m\n\u001b[0;32m    127\u001b[0m \u001b[1;33m\u001b[0m\u001b[0m\n",
      "\u001b[1;32mC:\\ProgramData\\Anaconda3\\lib\\site-packages\\mhrc\\automation\\xml_sock.py\u001b[0m in \u001b[0;36mrecv\u001b[1;34m(self)\u001b[0m\n\u001b[0;32m    143\u001b[0m         \u001b[1;32mif\u001b[0m \u001b[0mself\u001b[0m\u001b[1;33m.\u001b[0m\u001b[0mrx_open\u001b[0m\u001b[1;33m(\u001b[0m\u001b[1;33m)\u001b[0m\u001b[1;33m:\u001b[0m\u001b[1;33m\u001b[0m\u001b[1;33m\u001b[0m\u001b[0m\n\u001b[0;32m    144\u001b[0m             \u001b[1;32mtry\u001b[0m\u001b[1;33m:\u001b[0m\u001b[1;33m\u001b[0m\u001b[1;33m\u001b[0m\u001b[0m\n\u001b[1;32m--> 145\u001b[1;33m                 \u001b[0mxml\u001b[0m \u001b[1;33m=\u001b[0m \u001b[0mnext\u001b[0m\u001b[1;33m(\u001b[0m\u001b[0mself\u001b[0m\u001b[1;33m.\u001b[0m\u001b[0m_rx\u001b[0m\u001b[1;33m)\u001b[0m\u001b[1;33m\u001b[0m\u001b[1;33m\u001b[0m\u001b[0m\n\u001b[0m\u001b[0;32m    146\u001b[0m                 \u001b[1;32mif\u001b[0m \u001b[0mxml\u001b[0m \u001b[1;32mis\u001b[0m \u001b[1;32mNone\u001b[0m\u001b[1;33m:\u001b[0m\u001b[1;33m\u001b[0m\u001b[1;33m\u001b[0m\u001b[0m\n\u001b[0;32m    147\u001b[0m                     \u001b[0mself\u001b[0m\u001b[1;33m.\u001b[0m\u001b[0m_timeouts\u001b[0m \u001b[1;33m+=\u001b[0m \u001b[1;36m1\u001b[0m\u001b[1;33m\u001b[0m\u001b[1;33m\u001b[0m\u001b[0m\n",
      "\u001b[1;32mC:\\ProgramData\\Anaconda3\\lib\\site-packages\\mhrc\\automation\\xml_sock.py\u001b[0m in \u001b[0;36m_read_xml\u001b[1;34m(self, sock, bufsize, encoding)\u001b[0m\n\u001b[0;32m    192\u001b[0m             \u001b[1;32mtry\u001b[0m\u001b[1;33m:\u001b[0m\u001b[1;33m\u001b[0m\u001b[1;33m\u001b[0m\u001b[0m\n\u001b[0;32m    193\u001b[0m                 \u001b[1;31m# Check if we've received some data\u001b[0m\u001b[1;33m\u001b[0m\u001b[1;33m\u001b[0m\u001b[1;33m\u001b[0m\u001b[0m\n\u001b[1;32m--> 194\u001b[1;33m                 \u001b[0mdata\u001b[0m \u001b[1;33m=\u001b[0m \u001b[0msock\u001b[0m\u001b[1;33m.\u001b[0m\u001b[0mrecv\u001b[0m\u001b[1;33m(\u001b[0m\u001b[0mbufsize\u001b[0m\u001b[1;33m)\u001b[0m\u001b[1;33m\u001b[0m\u001b[1;33m\u001b[0m\u001b[0m\n\u001b[0m\u001b[0;32m    195\u001b[0m \u001b[1;33m\u001b[0m\u001b[0m\n\u001b[0;32m    196\u001b[0m                 \u001b[1;31m# Did we receive any data?\u001b[0m\u001b[1;33m\u001b[0m\u001b[1;33m\u001b[0m\u001b[1;33m\u001b[0m\u001b[0m\n",
      "\u001b[1;31mKeyboardInterrupt\u001b[0m: "
     ]
    }
   ],
   "source": [
    "import numpy as np\n",
    "import sys, os\n",
    "import mhrc.automation\n",
    "import time\n",
    "# Import other utilities to perform cool stuff\n",
    "from win32com.client.gencache import EnsureDispatch as Dispatch\n",
    "from mhrc.automation.utilities.word import Word\n",
    "from mhrc.automation.utilities.file import File\n",
    "\n",
    "import win32com.client\n",
    "import shutil\n",
    "\n",
    "#---------------------------------------------------------------------\n",
    "# Configuration\n",
    "#---------------------------------------------------------------------\n",
    "print(\"Automation Library:\", mhrc.automation.VERSION)\n",
    "\n",
    "pscad_version = 'PSCAD 4.6.3 (x64)'\n",
    "fortran_version = 'Intel(R) Visual Fortran Compiler 19.1.2.254 (64-bit)'\n",
    "fortran_ext = '.if15'\n",
    "project_name = 'PSCAD_DDPG'\n",
    "\n",
    "# Working directory\n",
    "working_dir = os.getcwd() + \"\\\\\"\n",
    "\n",
    "#---------------------------------------------------------------------\n",
    "# Main script \n",
    "#---------------------------------------------------------------------\n",
    "\n",
    "# Source and destination folders for output data\n",
    "src_folder = working_dir + project_name + fortran_ext\n",
    "dst_folder = working_dir + \"output\"   \n",
    "\n",
    "# Clear the ouput folder\n",
    "try:\n",
    "    shutil.rmtree(dst_folder)\n",
    "except Exception as ignored:\n",
    "    pass\n",
    "\n",
    "os.mkdir(dst_folder)\n",
    "\n",
    "# Launch specific PSCAD and Fortran version\n",
    "pscad = mhrc.automation.launch_pscad(pscad_version=pscad_version, fortran_version=fortran_version, certificate=False)\n",
    "\n",
    "if pscad:\n",
    "    try:\n",
    "        # Load the project\n",
    "        pscad.load([working_dir + project_name + \".pscx\"])\n",
    "        project = pscad.project(project_name) \n",
    "        project.focus()\n",
    "\n",
    "        # Get the \"Main\" canvas\n",
    "        #main = project.user_canvas('Main')\n",
    "\n",
    "        # Get Vm signal\n",
    "        #b1 = main.user_cmp(57136136)\n",
    "\n",
    "        start = time.time()\n",
    "        for i in range(50):\n",
    "            for j in range(1):\n",
    "            \n",
    "                # Run simulation for one step 5e-5 sec\n",
    "                project.run()\n",
    "\n",
    "                # Read Sin_Out data from '.out' file\n",
    "                #Sin_Out_With_Time = np.loadtxt(r'Sin_Fortran_Self.if15/Sin_Fortran_Self_01.out')\n",
    "\n",
    "                #if Sin_Out_With_Time[-1][-1] >= 4:\n",
    "                    #b1.set_parameters(Value=5)\n",
    "                #else:\n",
    "                    #b1.set_parameters(Value=6)\n",
    "            \n",
    "        end = time.time()\n",
    "        print(\"Script is Done!\")\n",
    "        print(\"time spent: {0}\".format(end-start))\n",
    "    finally:\n",
    "        #pscad.quit()\n",
    "        pass\n",
    "else:\n",
    "    print(\"Failed to launch PSCAD\")\n",
    "    \n",
    "\n",
    "# ------------------------------------------------------------------------------\n",
    "#  End of script\n",
    "# ~~~~~~~~~~~~~~~~~~~~~~~~~~~~~~~~~~~~~~~~~~~~~~~~~~~~~~~~~~~~~~~~~~~~~~~~~~~~~~\n"
   ]
  },
  {
   "cell_type": "code",
   "execution_count": null,
   "metadata": {},
   "outputs": [],
   "source": [
    "import numpy as np\n",
    "import sys, os\n",
    "import mhrc.automation\n",
    "import time\n",
    "# Import other utilities to perform cool stuff\n",
    "from win32com.client.gencache import EnsureDispatch as Dispatch\n",
    "from mhrc.automation.utilities.word import Word\n",
    "from mhrc.automation.utilities.file import File\n",
    "\n",
    "import win32com.client\n",
    "import shutil\n",
    "\n",
    "#---------------------------------------------------------------------\n",
    "# Configuration\n",
    "#---------------------------------------------------------------------\n",
    "print(\"Automation Library:\", mhrc.automation.VERSION)\n",
    "\n",
    "pscad_version = 'PSCAD 4.6.3 (x64)'\n",
    "fortran_version = 'Intel(R) Visual Fortran Compiler 19.1.3.311 (64-bit)'\n",
    "fortran_ext = '.if15'\n",
    "project_name = 'PSCAD_DDPG'\n",
    "\n",
    "# Working directory\n",
    "working_dir = os.getcwd() + \"\\\\\"\n",
    "\n",
    "#---------------------------------------------------------------------\n",
    "# Main script \n",
    "#---------------------------------------------------------------------\n",
    "\n",
    "# Source and destination folders for output data\n",
    "src_folder = working_dir + project_name + fortran_ext\n",
    "dst_folder = working_dir + \"output\"   \n",
    "\n",
    "# Clear the ouput folder\n",
    "try:\n",
    "    shutil.rmtree(dst_folder)\n",
    "except Exception as ignored:\n",
    "    pass\n",
    "\n",
    "os.mkdir(dst_folder)\n",
    "\n",
    "# Launch specific PSCAD and Fortran version\n",
    "pscad = mhrc.automation.launch_pscad(pscad_version=pscad_version, fortran_version=fortran_version, certificate=False)\n",
    "\n",
    "if pscad:\n",
    "    try:\n",
    "        # Load the project\n",
    "        pscad.load([working_dir + project_name + \".pscx\"])\n",
    "        project = pscad.project(project_name) \n",
    "        project.focus()\n",
    "\n",
    "        # Get the \"Main\" canvas\n",
    "        #main = project.user_canvas('Main')\n",
    "\n",
    "        # Get Vm signal\n",
    "        #b1 = main.user_cmp(57136136)\n",
    "\n",
    "        start = time.time()\n",
    "        for i in range(1):\n",
    "            for j in range(1):\n",
    "            \n",
    "                # Run simulation for one step 5e-5 sec\n",
    "                project.run()\n",
    "\n",
    "                # Read Sin_Out data from '.out' file\n",
    "                #Sin_Out_With_Time = np.loadtxt(r'Sin_Fortran_Self.if15/Sin_Fortran_Self_01.out')\n",
    "\n",
    "                #if Sin_Out_With_Time[-1][-1] >= 4:\n",
    "                    #b1.set_parameters(Value=5)\n",
    "                #else:\n",
    "                    #b1.set_parameters(Value=6)\n",
    "\n",
    "            \n",
    "            \n",
    "        end = time.time()\n",
    "        print(\"Script is Done!\")\n",
    "        print(\"time spent: {0}\".format(end-start))\n",
    "    finally:\n",
    "        #pscad.quit()\n",
    "        pass\n",
    "else:\n",
    "    print(\"Failed to launch PSCAD\")\n",
    "    \n",
    "\n",
    "# ------------------------------------------------------------------------------\n",
    "#  End of script\n",
    "# ~~~~~~~~~~~~~~~~~~~~~~~~~~~~~~~~~~~~~~~~~~~~~~~~~~~~~~~~~~~~~~~~~~~~~~~~~~~~~~\n"
   ]
  },
  {
   "cell_type": "code",
   "execution_count": 19,
   "metadata": {},
   "outputs": [
    {
     "data": {
      "image/png": "[encoded data removed]",
      "text/plain": [
       "<Figure size 432x288 with 1 Axes>"
      ]
     },
     "metadata": {
      "needs_background": "light"
     },
     "output_type": "display_data"
    },
    {
     "data": {
      "text/plain": [
       "<Figure size 432x288 with 0 Axes>"
      ]
     },
     "metadata": {},
     "output_type": "display_data"
    }
   ],
   "source": [
    "import numpy as np\n",
    "import matplotlib.pyplot as plt\n",
    "\n",
    "plt.plot(np.load('episodic_reward_store.npy')[0:40])\n",
    "\n",
    "#设置坐标轴名称\n",
    "plt.xlabel('Episode')\n",
    "plt.ylabel('Episodic reward')\n",
    "plt.savefig('Episodic reward.svg',dpi=600,format='svg',bbox_inches = 'tight')\n",
    "plt.show()\n",
    "plt.tight_layout()"
   ]
  },
  {
   "cell_type": "code",
   "execution_count": 7,
   "metadata": {},
   "outputs": [
    {
     "name": "stdout",
     "output_type": "stream",
     "text": [
      "<built-in method format of str object at 0x000001D447CC6730> 2\n"
     ]
    }
   ],
   "source": [
    "print('1 + 1 = {}'.format, (2))"
   ]
  },
  {
   "cell_type": "code",
   "execution_count": null,
   "metadata": {},
   "outputs": [],
   "source": []
  }
 ],
 "metadata": {
  "kernelspec": {
   "display_name": "Python 3",
   "language": "python",
   "name": "python3"
  },
  "language_info": {
   "codemirror_mode": {
    "name": "ipython",
    "version": 3
   },
   "file_extension": ".py",
   "mimetype": "text/x-python",
   "name": "python",
   "nbconvert_exporter": "python",
   "pygments_lexer": "ipython3",
   "version": "3.8.3"
  }
 },
 "nbformat": 4,
 "nbformat_minor": 4
}
